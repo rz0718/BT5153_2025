{
 "cells": [
  {
   "cell_type": "markdown",
   "metadata": {
    "id": "ktz0XcNX2C5T"
   },
   "source": [
    "##  Representation Learning in Neural Networks \n",
    "\n",
    "In neural network, we don't need to preprocess the data to add non-linear features, since the MLP will learn the best non-linear transformations to the input in order to achieve the best classification. In a classification task, the output of hidden layers could be interpreted as:\n",
    "\n",
    "> ***Outputs of each hidden layer of an MLP is a non-linear transformation of the input data into a feature space. Each hidden layer should transform the input so that it is more linearly separable.***\n",
    "\n",
    "***Note:*** You will see later during the semester that often times, we are more interested in learning the latent representation of the data rather than perfecting our performance in a single task (such as classification). "
   ]
  },
  {
   "cell_type": "code",
   "execution_count": null,
   "metadata": {},
   "outputs": [],
   "source": [
    "import keras\n",
    "from keras.models import Sequential\n",
    "from keras.layers import Dense, Input\n",
    "from sklearn.datasets import make_moons, make_circles\n",
    "from sklearn.preprocessing import scale, PolynomialFeatures\n",
    "from sklearn.model_selection import train_test_split\n",
    "from sklearn.linear_model import LogisticRegression\n",
    "from sklearn.pipeline import make_pipeline\n",
    "from sklearn.linear_model import Ridge\n",
    "from sklearn.metrics import r2_score as r2\n",
    "import numpy as np\n",
    "import scipy as sp\n",
    "import matplotlib.pyplot as plt\n",
    "%matplotlib inline"
   ]
  },
  {
   "cell_type": "code",
   "execution_count": 29,
   "metadata": {
    "executionInfo": {
     "elapsed": 480,
     "status": "ok",
     "timestamp": 1644657617461,
     "user": {
      "displayName": "rui zhao",
      "photoUrl": "https://lh3.googleusercontent.com/a-/AOh14GhmCiWl9LCopoyVYtscKhRzE0L8Y0JRDSZ6bsjFHA=s64",
      "userId": "07976630900806258773"
     },
     "user_tz": -480
    },
    "id": "KLdo_nm62Atd"
   },
   "outputs": [],
   "source": [
    "# generate a toy classification data set with non-linear decision boundary\n",
    "random_seed = 1\n",
    "X, Y = make_moons(noise=0.05, random_state=random_seed, n_samples=1000)\n",
    "X = scale(X)\n",
    "X_train, X_test, Y_train, Y_test = train_test_split(X, Y, test_size=.3)"
   ]
  },
  {
   "cell_type": "code",
   "execution_count": 30,
   "metadata": {
    "colab": {
     "base_uri": "https://localhost:8080/",
     "height": 295
    },
    "executionInfo": {
     "elapsed": 9,
     "status": "ok",
     "timestamp": 1644657617877,
     "user": {
      "displayName": "rui zhao",
      "photoUrl": "https://lh3.googleusercontent.com/a-/AOh14GhmCiWl9LCopoyVYtscKhRzE0L8Y0JRDSZ6bsjFHA=s64",
      "userId": "07976630900806258773"
     },
     "user_tz": -480
    },
    "id": "n-QaAmD12Bru",
    "outputId": "c88a4e57-8b50-4620-a0c1-3a624e9635b0"
   },
   "outputs": [
    {
     "data": {
      "image/png": "[encoded data removed]",
      "text/plain": [
       "<Figure size 432x288 with 1 Axes>"
      ]
     },
     "metadata": {
      "needs_background": "light"
     },
     "output_type": "display_data"
    }
   ],
   "source": [
    "# scatter plot the data, color each class differently\n",
    "fig, ax = plt.subplots()\n",
    "ax.scatter(X[Y==0, 0], X[Y==0, 1], label='Class 0')\n",
    "ax.scatter(X[Y==1, 0], X[Y==1, 1], color='r', label='Class 1')\n",
    "ax.legend()\n",
    "ax.set(xlabel='X', ylabel='Y', title='Toy binary classification data set')\n",
    "plt.show()"
   ]
  },
  {
   "cell_type": "code",
   "execution_count": 31,
   "metadata": {
    "colab": {
     "base_uri": "https://localhost:8080/"
    },
    "executionInfo": {
     "elapsed": 5,
     "status": "ok",
     "timestamp": 1644657620208,
     "user": {
      "displayName": "rui zhao",
      "photoUrl": "https://lh3.googleusercontent.com/a-/AOh14GhmCiWl9LCopoyVYtscKhRzE0L8Y0JRDSZ6bsjFHA=s64",
      "userId": "07976630900806258773"
     },
     "user_tz": -480
    },
    "id": "Sh1XWXc22GjM",
    "outputId": "6428e3ec-143c-4ce7-ff6e-52524014c293"
   },
   "outputs": [
    {
     "name": "stdout",
     "output_type": "stream",
     "text": [
      "Train accuracy: 0.8942857142857142\n",
      "Test accuracy: 0.8733333333333333\n"
     ]
    }
   ],
   "source": [
    "# fit a logistic regression model to classify this data set as a benchmark \n",
    "simple_model = LogisticRegression()\n",
    "simple_model.fit(X_train, Y_train)\n",
    "print('Train accuracy:', simple_model.score(X_train, Y_train))\n",
    "print('Test accuracy:', simple_model.score(X_test, Y_test))"
   ]
  },
  {
   "cell_type": "markdown",
   "metadata": {
    "id": "3T00E3ws2IOZ"
   },
   "source": [
    "Now fix a width $H = 2$ (so that we can scatter plot the latent representations of our data at each layer) and let's fit a MLP network with **multiple** hidden layers, each with the same width. Start with hyperbolic-tan activation functions for the hidden nodes and linear activation for the output. \n"
   ]
  },
  {
   "cell_type": "code",
   "execution_count": 32,
   "metadata": {
    "executionInfo": {
     "elapsed": 445,
     "status": "ok",
     "timestamp": 1644657675335,
     "user": {
      "displayName": "rui zhao",
      "photoUrl": "https://lh3.googleusercontent.com/a-/AOh14GhmCiWl9LCopoyVYtscKhRzE0L8Y0JRDSZ6bsjFHA=s64",
      "userId": "07976630900806258773"
     },
     "user_tz": -480
    },
    "id": "cKO_u9wU2InW"
   },
   "outputs": [],
   "source": [
    "# fix a width that is suited for visualizing the output of hidden layers\n",
    "H = 2\n",
    "input_dim = X.shape[1]\n",
    "\n",
    "# create sequential multi-layer perceptron\n",
    "model = Sequential()\n",
    "\n",
    "# Then, use add() to insert layers into the container\n",
    "model.add(Input(shape=(input_dim,)))\n",
    "model.add(Dense(H,activation='tanh'))\n",
    "model.add(Dense(H, activation='tanh'))\n",
    "model.add(Dense(H, activation='tanh'))\n",
    "#binary classification, one output\n",
    "model.add(Dense(1, activation='sigmoid'))\n",
    "\n",
    "model.compile(loss='binary_crossentropy',\n",
    "              metrics=['acc'])"
   ]
  },
  {
   "cell_type": "code",
   "execution_count": 42,
   "metadata": {
    "colab": {
     "base_uri": "https://localhost:8080/"
    },
    "executionInfo": {
     "elapsed": 418,
     "status": "ok",
     "timestamp": 1644657743216,
     "user": {
      "displayName": "rui zhao",
      "photoUrl": "https://lh3.googleusercontent.com/a-/AOh14GhmCiWl9LCopoyVYtscKhRzE0L8Y0JRDSZ6bsjFHA=s64",
      "userId": "07976630900806258773"
     },
     "user_tz": -480
    },
    "id": "HakzwRGPPX2H",
    "outputId": "33747730-7778-4907-addb-65ea1e22a9b1"
   },
   "outputs": [
    {
     "data": {
      "text/plain": [
       "[<keras.layers.core.dense.Dense at 0x7f7ac2673d50>,\n",
       " <keras.layers.core.dense.Dense at 0x7f7ac265b2d0>,\n",
       " <keras.layers.core.dense.Dense at 0x7f7ac265b7d0>,\n",
       " <keras.layers.core.dense.Dense at 0x7f7ac2c486d0>]"
      ]
     },
     "execution_count": 42,
     "metadata": {},
     "output_type": "execute_result"
    }
   ],
   "source": [
    "model.layers"
   ]
  },
  {
   "cell_type": "code",
   "execution_count": 33,
   "metadata": {
    "executionInfo": {
     "elapsed": 10347,
     "status": "ok",
     "timestamp": 1644657693244,
     "user": {
      "displayName": "rui zhao",
      "photoUrl": "https://lh3.googleusercontent.com/a-/AOh14GhmCiWl9LCopoyVYtscKhRzE0L8Y0JRDSZ6bsjFHA=s64",
      "userId": "07976630900806258773"
     },
     "user_tz": -480
    },
    "id": "SQC08Ddb2Lrw"
   },
   "outputs": [],
   "source": [
    "# fit the model\n",
    "history = model.fit(X_train, Y_train, validation_data=(X_test, Y_test), epochs=150, verbose=0)"
   ]
  },
  {
   "cell_type": "code",
   "execution_count": 34,
   "metadata": {
    "colab": {
     "base_uri": "https://localhost:8080/"
    },
    "executionInfo": {
     "elapsed": 371,
     "status": "ok",
     "timestamp": 1644657693609,
     "user": {
      "displayName": "rui zhao",
      "photoUrl": "https://lh3.googleusercontent.com/a-/AOh14GhmCiWl9LCopoyVYtscKhRzE0L8Y0JRDSZ6bsjFHA=s64",
      "userId": "07976630900806258773"
     },
     "user_tz": -480
    },
    "id": "XB4cbwUA2NHv",
    "outputId": "2982a65a-72f6-47e8-a7a5-3a6196387c3a"
   },
   "outputs": [
    {
     "name": "stdout",
     "output_type": "stream",
     "text": [
      "Train loss: 0.0007340409210883081\n",
      "Train accuracy: 1.0\n"
     ]
    }
   ],
   "source": [
    "# evaluate the training and testing performance of your model \n",
    "# note: you should extract check both the loss function and your evaluation metric\n",
    "score = model.evaluate(X_train, Y_train, verbose=0)\n",
    "print('Train loss:', score[0])\n",
    "print('Train accuracy:', score[1])"
   ]
  },
  {
   "cell_type": "code",
   "execution_count": 35,
   "metadata": {
    "colab": {
     "base_uri": "https://localhost:8080/"
    },
    "executionInfo": {
     "elapsed": 10,
     "status": "ok",
     "timestamp": 1644657693610,
     "user": {
      "displayName": "rui zhao",
      "photoUrl": "https://lh3.googleusercontent.com/a-/AOh14GhmCiWl9LCopoyVYtscKhRzE0L8Y0JRDSZ6bsjFHA=s64",
      "userId": "07976630900806258773"
     },
     "user_tz": -480
    },
    "id": "RgSyvalh2OWz",
    "outputId": "b12919af-33ab-466e-9e7a-ce823eefd5de"
   },
   "outputs": [
    {
     "name": "stdout",
     "output_type": "stream",
     "text": [
      "Test loss: 0.0008793871384114027\n",
      "Test accuracy: 1.0\n"
     ]
    }
   ],
   "source": [
    "score = model.evaluate(X_test, Y_test, verbose=0)\n",
    "print('Test loss:', score[0])\n",
    "print('Test accuracy:', score[1])"
   ]
  },
  {
   "cell_type": "code",
   "execution_count": 36,
   "metadata": {
    "executionInfo": {
     "elapsed": 512,
     "status": "ok",
     "timestamp": 1644657696574,
     "user": {
      "displayName": "rui zhao",
      "photoUrl": "https://lh3.googleusercontent.com/a-/AOh14GhmCiWl9LCopoyVYtscKhRzE0L8Y0JRDSZ6bsjFHA=s64",
      "userId": "07976630900806258773"
     },
     "user_tz": -480
    },
    "id": "NuH8YhkQ2Ptk"
   },
   "outputs": [],
   "source": [
    "# get the class probabilities predicted by our MLP on the training set\n",
    "Y_train_pred = model.predict(X_train)"
   ]
  },
  {
   "cell_type": "code",
   "execution_count": 43,
   "metadata": {
    "colab": {
     "base_uri": "https://localhost:8080/"
    },
    "executionInfo": {
     "elapsed": 404,
     "status": "ok",
     "timestamp": 1644657758055,
     "user": {
      "displayName": "rui zhao",
      "photoUrl": "https://lh3.googleusercontent.com/a-/AOh14GhmCiWl9LCopoyVYtscKhRzE0L8Y0JRDSZ6bsjFHA=s64",
      "userId": "07976630900806258773"
     },
     "user_tz": -480
    },
    "id": "XYTlS8FaPcYh",
    "outputId": "b2c387b0-2c2d-4d92-b79c-cb9462fdaeaf"
   },
   "outputs": [
    {
     "data": {
      "text/plain": [
       "[<keras.layers.core.dense.Dense at 0x7f7ac2673d50>,\n",
       " <keras.layers.core.dense.Dense at 0x7f7ac265b2d0>,\n",
       " <keras.layers.core.dense.Dense at 0x7f7ac265b7d0>,\n",
       " <keras.layers.core.dense.Dense at 0x7f7ac2c486d0>]"
      ]
     },
     "execution_count": 43,
     "metadata": {},
     "output_type": "execute_result"
    }
   ],
   "source": [
    "model.layers"
   ]
  },
  {
   "cell_type": "code",
   "execution_count": 44,
   "metadata": {
    "executionInfo": {
     "elapsed": 306,
     "status": "ok",
     "timestamp": 1644657768687,
     "user": {
      "displayName": "rui zhao",
      "photoUrl": "https://lh3.googleusercontent.com/a-/AOh14GhmCiWl9LCopoyVYtscKhRzE0L8Y0JRDSZ6bsjFHA=s64",
      "userId": "07976630900806258773"
     },
     "user_tz": -480
    },
    "id": "xHP1cTgR2RTb"
   },
   "outputs": [],
   "source": [
    "get_1st_layer_output = keras.backend.function([model.layers[0].input],\n",
    "                                  [model.layers[0].output])\n",
    "layer_output = get_1st_layer_output([X_train])[0]"
   ]
  },
  {
   "cell_type": "code",
   "execution_count": 45,
   "metadata": {
    "colab": {
     "base_uri": "https://localhost:8080/",
     "height": 265
    },
    "executionInfo": {
     "elapsed": 376,
     "status": "ok",
     "timestamp": 1644657771337,
     "user": {
      "displayName": "rui zhao",
      "photoUrl": "https://lh3.googleusercontent.com/a-/AOh14GhmCiWl9LCopoyVYtscKhRzE0L8Y0JRDSZ6bsjFHA=s64",
      "userId": "07976630900806258773"
     },
     "user_tz": -480
    },
    "id": "-qQZsxLf2Sjp",
    "outputId": "b4740b8b-91f3-4aa1-e489-0eaea823f163"
   },
   "outputs": [
    {
     "data": {
      "image/png": "[encoded data removed]",
      "text/plain": [
       "<Figure size 432x288 with 1 Axes>"
      ]
     },
     "metadata": {
      "needs_background": "light"
     },
     "output_type": "display_data"
    }
   ],
   "source": [
    "# plot the latent representation of our training data at the first hidden layer\n",
    "Y_train_pred = Y_train_pred.reshape((Y_train_pred.shape[0], ))\n",
    "\n",
    "fig, ax = plt.subplots()\n",
    "ax.scatter(layer_output[Y_train_pred >= 0.5, 0], layer_output[Y_train_pred >= 0.5, 1], color='r', label='Class 1')\n",
    "ax.scatter(layer_output[Y_train_pred < 0.5, 0], layer_output[Y_train_pred < 0.5, 1], label='Class 0')\n",
    "ax.legend()\n",
    "plt.show()"
   ]
  },
  {
   "cell_type": "code",
   "execution_count": 46,
   "metadata": {
    "executionInfo": {
     "elapsed": 367,
     "status": "ok",
     "timestamp": 1644657774488,
     "user": {
      "displayName": "rui zhao",
      "photoUrl": "https://lh3.googleusercontent.com/a-/AOh14GhmCiWl9LCopoyVYtscKhRzE0L8Y0JRDSZ6bsjFHA=s64",
      "userId": "07976630900806258773"
     },
     "user_tz": -480
    },
    "id": "CnUeSnkp2So3"
   },
   "outputs": [],
   "source": [
    "get_2nd_layer_output = keras.backend.function([model.layers[0].input],\n",
    "                                  [model.layers[1].output])\n",
    "layer_output = get_2nd_layer_output([X_train])[0]"
   ]
  },
  {
   "cell_type": "code",
   "execution_count": 47,
   "metadata": {
    "colab": {
     "base_uri": "https://localhost:8080/",
     "height": 268
    },
    "executionInfo": {
     "elapsed": 552,
     "status": "ok",
     "timestamp": 1644657775372,
     "user": {
      "displayName": "rui zhao",
      "photoUrl": "https://lh3.googleusercontent.com/a-/AOh14GhmCiWl9LCopoyVYtscKhRzE0L8Y0JRDSZ6bsjFHA=s64",
      "userId": "07976630900806258773"
     },
     "user_tz": -480
    },
    "id": "mP-Kb9Hn2Vqb",
    "outputId": "fc065a15-7854-4f1c-a1a0-4e6286a35615"
   },
   "outputs": [
    {
     "data": {
      "image/png": "[encoded data removed]",
      "text/plain": [
       "<Figure size 432x288 with 1 Axes>"
      ]
     },
     "metadata": {
      "needs_background": "light"
     },
     "output_type": "display_data"
    }
   ],
   "source": [
    "# plot the latent representation of our training data at the second hidden layer\n",
    "Y_train_pred = Y_train_pred.reshape((Y_train_pred.shape[0], ))\n",
    "\n",
    "fig, ax = plt.subplots()\n",
    "ax.scatter(layer_output[Y_train_pred >= 0.5, 0], layer_output[Y_train_pred >= 0.5, 1], color='r', label='Class 1')\n",
    "ax.scatter(layer_output[Y_train_pred < 0.5, 0], layer_output[Y_train_pred < 0.5, 1], label='Class 0')\n",
    "ax.legend()\n",
    "plt.show()"
   ]
  },
  {
   "cell_type": "code",
   "execution_count": 48,
   "metadata": {
    "executionInfo": {
     "elapsed": 2,
     "status": "ok",
     "timestamp": 1644657776190,
     "user": {
      "displayName": "rui zhao",
      "photoUrl": "https://lh3.googleusercontent.com/a-/AOh14GhmCiWl9LCopoyVYtscKhRzE0L8Y0JRDSZ6bsjFHA=s64",
      "userId": "07976630900806258773"
     },
     "user_tz": -480
    },
    "id": "LZwnkOfi2XPa"
   },
   "outputs": [],
   "source": [
    "get_3rd_layer_output = keras.backend.function([model.layers[0].input],\n",
    "                                  [model.layers[2].output])\n",
    "layer_output = get_3rd_layer_output([X_train])[0]"
   ]
  },
  {
   "cell_type": "code",
   "execution_count": 49,
   "metadata": {
    "colab": {
     "base_uri": "https://localhost:8080/",
     "height": 265
    },
    "executionInfo": {
     "elapsed": 400,
     "status": "ok",
     "timestamp": 1644657777301,
     "user": {
      "displayName": "rui zhao",
      "photoUrl": "https://lh3.googleusercontent.com/a-/AOh14GhmCiWl9LCopoyVYtscKhRzE0L8Y0JRDSZ6bsjFHA=s64",
      "userId": "07976630900806258773"
     },
     "user_tz": -480
    },
    "id": "SK27bxuZ2Ybz",
    "outputId": "d6315fc5-24c4-4e91-e948-96be797fa7a3"
   },
   "outputs": [
    {
     "data": {
      "image/png": "[encoded data removed]",
      "text/plain": [
       "<Figure size 432x288 with 1 Axes>"
      ]
     },
     "metadata": {
      "needs_background": "light"
     },
     "output_type": "display_data"
    }
   ],
   "source": [
    "# plot the latent representation of our training data at the third hidden layer\n",
    "Y_train_pred = Y_train_pred.reshape((Y_train_pred.shape[0], ))\n",
    "\n",
    "fig, ax = plt.subplots()\n",
    "ax.scatter(layer_output[Y_train_pred >= 0.5, 0], layer_output[Y_train_pred >= 0.5, 1], color='r', label='Class 1')\n",
    "ax.scatter(layer_output[Y_train_pred < 0.5, 0], layer_output[Y_train_pred < 0.5, 1], label='Class 0')\n",
    "ax.legend()\n",
    "plt.show()"
   ]
  },
  {
   "cell_type": "markdown",
   "metadata": {
    "id": "eSbLHSOC2dk3"
   },
   "source": [
    "What if we only use linear activations in those hidden layers? "
   ]
  }
 ],
 "metadata": {
  "colab": {
   "authorship_tag": "ABX9TyPw+sh8P03IIC2ti+vx1ubK",
   "name": "BT5153-Representation Learning in Neural Network.ipynb.ipynb",
   "provenance": []
  },
  "kernelspec": {
   "display_name": "Python 3 (ipykernel)",
   "language": "python",
   "name": "python3"
  },
  "language_info": {
   "codemirror_mode": {
    "name": "ipython",
    "version": 3
   },
   "file_extension": ".py",
   "mimetype": "text/x-python",
   "name": "python",
   "nbconvert_exporter": "python",
   "pygments_lexer": "ipython3",
   "version": "3.9.15"
  }
 },
 "nbformat": 4,
 "nbformat_minor": 1
}
