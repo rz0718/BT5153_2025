{
 "cells": [
  {
   "cell_type": "code",
   "execution_count": 26,
   "id": "065ab0f6",
   "metadata": {},
   "outputs": [],
   "source": [
    "import tensorflow as tf\n",
    "from tensorflow import keras\n",
    "from tensorflow.keras.layers import MultiHeadAttention"
   ]
  },
  {
   "cell_type": "code",
   "execution_count": 42,
   "id": "5c766792",
   "metadata": {},
   "outputs": [],
   "source": [
    "target = tf.keras.Input(shape=[6, 16])\n",
    "\n",
    "# assume it is a sentence of 6 words. Then, each word has a"
   ]
  },
  {
   "cell_type": "code",
   "execution_count": 43,
   "id": "704f51f0",
   "metadata": {},
   "outputs": [
    {
     "name": "stdout",
     "output_type": "stream",
     "text": [
      "(None, 6, 16)\n",
      "(None, 1, 6, 6)\n"
     ]
    }
   ],
   "source": [
    "layer = MultiHeadAttention(num_heads=1, key_dim=2)\n",
    "output_tensor, attention_scores = layer(target, target, return_attention_scores=True)\n",
    "print(output_tensor.shape)\n",
    "print(attention_scores.shape)"
   ]
  },
  {
   "cell_type": "code",
   "execution_count": 44,
   "id": "417f5bcf",
   "metadata": {},
   "outputs": [
    {
     "name": "stdout",
     "output_type": "stream",
     "text": [
      "(16, 1, 2)\n",
      "(1, 2)\n",
      "(16, 1, 2)\n",
      "(1, 2)\n",
      "(16, 1, 2)\n",
      "(1, 2)\n",
      "(1, 2, 16)\n",
      "(16,)\n"
     ]
    }
   ],
   "source": [
    "for matrix in layer.weights:\n",
    "    print(matrix.shape)"
   ]
  },
  {
   "cell_type": "code",
   "execution_count": 63,
   "id": "6cae83eb",
   "metadata": {},
   "outputs": [
    {
     "name": "stdout",
     "output_type": "stream",
     "text": [
      "(None, 6, 16)\n",
      "(None, 3, 6, 6)\n"
     ]
    }
   ],
   "source": [
    "layer = MultiHeadAttention(num_heads=3, key_dim=2)\n",
    "target = tf.keras.Input(shape=[6, 16])\n",
    "output_tensor, attention_scores = layer(target, target, return_attention_scores=True)\n",
    "print(output_tensor.shape)\n",
    "print(attention_scores.shape)"
   ]
  },
  {
   "cell_type": "code",
   "execution_count": 64,
   "id": "18efdebb",
   "metadata": {},
   "outputs": [
    {
     "name": "stdout",
     "output_type": "stream",
     "text": [
      "(16, 3, 2)\n",
      "(3, 2)\n",
      "(16, 3, 2)\n",
      "(3, 2)\n",
      "(16, 3, 2)\n",
      "(3, 2)\n",
      "(3, 2, 16)\n",
      "(16,)\n"
     ]
    }
   ],
   "source": [
    "for matrix in layer.weights:\n",
    "    print(matrix.shape)"
   ]
  },
  {
   "cell_type": "code",
   "execution_count": null,
   "id": "86c2ba64",
   "metadata": {},
   "outputs": [],
   "source": []
  }
 ],
 "metadata": {
  "kernelspec": {
   "display_name": "Python 3 (ipykernel)",
   "language": "python",
   "name": "python3"
  },
  "language_info": {
   "codemirror_mode": {
    "name": "ipython",
    "version": 3
   },
   "file_extension": ".py",
   "mimetype": "text/x-python",
   "name": "python",
   "nbconvert_exporter": "python",
   "pygments_lexer": "ipython3",
   "version": "3.9.15"
  }
 },
 "nbformat": 4,
 "nbformat_minor": 5
}
